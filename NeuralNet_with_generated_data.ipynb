{
  "nbformat": 4,
  "nbformat_minor": 0,
  "metadata": {
    "colab": {
      "name": "NeuralNet with generated data",
      "provenance": [],
      "collapsed_sections": [],
      "authorship_tag": "ABX9TyMVrZWNeNvt+3+RlxLqLM9e",
      "include_colab_link": true
    },
    "kernelspec": {
      "name": "python3",
      "display_name": "Python 3"
    }
  },
  "cells": [
    {
      "cell_type": "markdown",
      "metadata": {
        "id": "view-in-github",
        "colab_type": "text"
      },
      "source": [
        "<a href=\"https://colab.research.google.com/github/pihk94/ProgGPU/blob/master/NeuralNet_with_generated_data.ipynb\" target=\"_parent\"><img src=\"https://colab.research.google.com/assets/colab-badge.svg\" alt=\"Open In Colab\"/></a>"
      ]
    },
    {
      "cell_type": "markdown",
      "metadata": {
        "id": "w4zGwAsjdQBk",
        "colab_type": "text"
      },
      "source": [
        "Let's first import our generated data."
      ]
    },
    {
      "cell_type": "code",
      "metadata": {
        "id": "RqFLeijidCjd",
        "colab_type": "code",
        "colab": {
          "base_uri": "https://localhost:8080/",
          "height": 204
        },
        "outputId": "ba1ba5e2-d191-4bb8-9b75-2cd8cdce150f"
      },
      "source": [
        "!wget https://github.com/pihk94/ProgGPU/blob/master/Data/data_generated.csv"
      ],
      "execution_count": 1,
      "outputs": [
        {
          "output_type": "stream",
          "text": [
            "--2020-05-25 20:10:03--  https://github.com/pihk94/ProgGPU/blob/master/Data/data_generated.csv\n",
            "Resolving github.com (github.com)... 140.82.113.4\n",
            "Connecting to github.com (github.com)|140.82.113.4|:443... connected.\n",
            "HTTP request sent, awaiting response... 200 OK\n",
            "Length: unspecified [text/html]\n",
            "Saving to: ‘data_generated.csv’\n",
            "\n",
            "\rdata_generated.csv      [<=>                 ]       0  --.-KB/s               \rdata_generated.csv      [ <=>                ]  65.31K  --.-KB/s    in 0.03s   \n",
            "\n",
            "2020-05-25 20:10:04 (2.28 MB/s) - ‘data_generated.csv’ saved [66882]\n",
            "\n"
          ],
          "name": "stdout"
        }
      ]
    }
  ]
}